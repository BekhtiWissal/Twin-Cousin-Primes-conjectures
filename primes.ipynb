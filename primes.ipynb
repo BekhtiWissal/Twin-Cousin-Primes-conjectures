{
 "cells": [
  {
   "cell_type": "code",
   "execution_count": 2,
   "metadata": {},
   "outputs": [
    {
     "name": "stdout",
     "output_type": "stream",
     "text": [
      "1st condition: For n = 99922, We have: 199844 = 199873 - 29, with (29, 31) is a twin prime pair\n",
      "2nd condition: For n = 99922, We have: 199844 = 200041 - 197, with ((193, 197)) is a cousin prime pair, and 199848 = 199853 - 5, with 7 is also prime\n",
      "For n = 99924, We have: 199848 = 199853 - 5, with (3, 5) is a twin prime pair\n",
      "For n = 99926, We have: 199852 = 199961 - 109, with (107, 109) is a twin prime pair\n",
      "1st condition: For n = 99928, We have: 199856 = 199873 - 17, with (17, 19) is a twin prime pair\n",
      "2nd condition: For n = 99928, We have: 199856 = 199873 - 17, with ((13, 17)) is a cousin prime pair, and 199860 = 199877 - 17, with 19 is also prime\n"
     ]
    },
    {
     "ename": "KeyboardInterrupt",
     "evalue": "",
     "output_type": "error",
     "traceback": [
      "\u001b[0;31m---------------------------------------------------------------------------\u001b[0m",
      "\u001b[0;31mKeyboardInterrupt\u001b[0m                         Traceback (most recent call last)",
      "Cell \u001b[0;32mIn[2], line 49\u001b[0m\n\u001b[1;32m     46\u001b[0m             \u001b[38;5;28mprint\u001b[39m(\u001b[38;5;124mf\u001b[39m\u001b[38;5;124m\"\u001b[39m\u001b[38;5;124mFor n = \u001b[39m\u001b[38;5;132;01m{\u001b[39;00mn\u001b[38;5;132;01m}\u001b[39;00m\u001b[38;5;124m, no suitable primes found.\u001b[39m\u001b[38;5;124m\"\u001b[39m)\n\u001b[1;32m     48\u001b[0m     \u001b[38;5;28;01mreturn\u001b[39;00m results\n\u001b[0;32m---> 49\u001b[0m results \u001b[38;5;241m=\u001b[39m \u001b[43mcheck_primes_for_even_numbers\u001b[49m\u001b[43m(\u001b[49m\u001b[43m)\u001b[49m\n\u001b[1;32m     52\u001b[0m \u001b[38;5;28;01mfor\u001b[39;00m n, primes \u001b[38;5;129;01min\u001b[39;00m results\u001b[38;5;241m.\u001b[39mitems():\n\u001b[1;32m     53\u001b[0m     \u001b[38;5;28;01mif\u001b[39;00m primes:\n",
      "Cell \u001b[0;32mIn[2], line 14\u001b[0m, in \u001b[0;36mcheck_primes_for_even_numbers\u001b[0;34m()\u001b[0m\n\u001b[1;32m     12\u001b[0m \u001b[38;5;28;01mfor\u001b[39;00m p \u001b[38;5;129;01min\u001b[39;00m primes:\n\u001b[1;32m     13\u001b[0m     p_prime \u001b[38;5;241m=\u001b[39m p \u001b[38;5;241m-\u001b[39m \u001b[38;5;241m2\u001b[39m \u001b[38;5;241m*\u001b[39m n\n\u001b[0;32m---> 14\u001b[0m     \u001b[38;5;28;01mif\u001b[39;00m p_prime \u001b[38;5;129;01min\u001b[39;00m primes \u001b[38;5;129;01mand\u001b[39;00m isprime(p_prime) \u001b[38;5;129;01mand\u001b[39;00m isprime(p):\n\u001b[1;32m     15\u001b[0m         \u001b[38;5;28;01mif\u001b[39;00m (p_prime \u001b[38;5;241m-\u001b[39m \u001b[38;5;241m2\u001b[39m \u001b[38;5;129;01min\u001b[39;00m primes \u001b[38;5;129;01mand\u001b[39;00m isprime(p_prime \u001b[38;5;241m-\u001b[39m \u001b[38;5;241m2\u001b[39m)):\n\u001b[1;32m     16\u001b[0m             results[n] \u001b[38;5;241m=\u001b[39m (p, p_prime)\n",
      "\u001b[0;31mKeyboardInterrupt\u001b[0m: "
     ]
    }
   ],
   "source": [
    "from sympy import isprime, primerange\n",
    "\n",
    "# Generate a list of primes up to 1000\n",
    "primes = list(primerange(0, 500000))\n",
    "\n",
    "def check_primes_for_even_numbers():\n",
    "    results = {}\n",
    "    for n in range(99922, 200000, 2):  # Check even numbers from 12 to 1000\n",
    "        found = False\n",
    "\n",
    "        # First check for p' - 2\n",
    "        for p in primes:\n",
    "            p_prime = p - 2 * n\n",
    "            if p_prime in primes and isprime(p_prime) and isprime(p):\n",
    "                if (p_prime - 2 in primes and isprime(p_prime - 2)):\n",
    "                    results[n] = (p, p_prime)\n",
    "                    found = True\n",
    "                    print(f\"For n = {n}, We have: {2*n} = {p} - {p_prime}, with {p_prime -2, p_prime} is a twin prime pair\")\n",
    "                    break\n",
    "\n",
    "        # If no suitable p' found, check for p' + 2\n",
    "        if not found:\n",
    "            for p in primes:\n",
    "                p_prime = p - 2 * n\n",
    "                if p_prime in primes and isprime(p_prime) and isprime(p):\n",
    "                    if p_prime + 2 in primes and isprime(p_prime + 2):\n",
    "                        results[n] = (p, p_prime)\n",
    "                        print(f\"1st condition: For n = {n}, We have: {2*n} = {p} - {p_prime}, with {p_prime, p_prime +2} is a twin prime pair\")\n",
    "                        break\n",
    "\n",
    "            for p in primes:\n",
    "                p_prime = p - 2 * n\n",
    "                if p_prime in primes and isprime(p_prime) and isprime(p):\n",
    "                    if p_prime - 4 in primes and isprime(p_prime - 4):\n",
    "                        for prime in primes: \n",
    "                            p_prime4 = prime - 2 * n - 4\n",
    "                            if p_prime4 + 2 in primes and isprime(p_prime4 + 2):\n",
    "                                print(f\"2nd condition: For n = {n}, We have: {2*n} = {p} - {p_prime}, with ({p_prime - 4, p_prime}) is a cousin prime pair, and {2*n + 4} = {prime} - {p_prime4}, with {p_prime4 +2} is also prime\")\n",
    "                                found = True\n",
    "                                break\n",
    "                        results[n] = (p, p_prime)\n",
    "                        break\n",
    "    \n",
    "        if not found:\n",
    "            results[n] = None\n",
    "            print(f\"For n = {n}, no suitable primes found.\")\n",
    "\n",
    "    return results\n",
    "results = check_primes_for_even_numbers()\n",
    "\n",
    "\n",
    "for n, primes in results.items():\n",
    "    if primes:\n",
    "        pass\n",
    "    else:\n",
    "        print(f\"For n = {n}, no suitable primes found.\")"
   ]
  }
 ],
 "metadata": {
  "kernelspec": {
   "display_name": "myenv",
   "language": "python",
   "name": "python3"
  },
  "language_info": {
   "codemirror_mode": {
    "name": "ipython",
    "version": 3
   },
   "file_extension": ".py",
   "mimetype": "text/x-python",
   "name": "python",
   "nbconvert_exporter": "python",
   "pygments_lexer": "ipython3",
   "version": "3.12.5"
  }
 },
 "nbformat": 4,
 "nbformat_minor": 2
}
